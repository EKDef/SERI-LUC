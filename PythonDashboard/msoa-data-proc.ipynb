{
 "cells": [
  {
   "metadata": {},
   "cell_type": "markdown",
   "source": "Download MSOA layer",
   "id": "fd599df432530682"
  },
  {
   "metadata": {},
   "cell_type": "code",
   "outputs": [],
   "execution_count": null,
   "source": [
    "import pathlib, requests, tqdm, geopandas as gpd, os\n",
    "\n",
    "DATA = pathlib.Path(\".\")\n",
    "GJ   = DATA / \"msoa_2021.geojson\"        # plain, not gzipped\n",
    "\n",
    "URL  = (\"https://services1.arcgis.com/ESMARspQHYMw9BZ9/arcgis/rest/services/Middle_layer_Super_Output_Areas_December_2021_Boundaries_EW_BGC_V3/FeatureServer/0/query?where=1%3D1&outFields=*&geometry=&geometryType=esriGeometryEnvelope&inSR=4326&spatialRel=esriSpatialRelIntersects&outSR=&f=json\")   # ONS 20 m generalisation\n",
    "\n",
    "if not GJ.exists():\n",
    "    print(\"[+] Downloading MSOA boundaries …\")\n",
    "    with requests.get(URL, stream=True) as r:\n",
    "        r.raise_for_status()\n",
    "        total = int(r.headers.get(\"content-length\", 0))\n",
    "        with open(GJ, \"wb\") as f, tqdm.tqdm(\n",
    "            total=total, unit=\"B\", unit_scale=True, unit_divisor=1024\n",
    "        ) as bar:\n",
    "            for chunk in r.iter_content(chunk_size=1 << 20):\n",
    "                f.write(chunk)\n",
    "                bar.update(len(chunk))\n",
    "\n",
    "size_mb = os.path.getsize(GJ) / 1_048_576\n",
    "print(f\"[✓] Download complete ({size_mb:.1f} MB)\")\n",
    "\n",
    "gdf = gpd.read_file(GJ)\n",
    "print(f\"[✓] GeoPandas read {len(gdf):,} MSOAs\")\n"
   ],
   "id": "6cc25a9e2423566"
  },
  {
   "metadata": {},
   "cell_type": "markdown",
   "source": "Compress MSOA",
   "id": "2e911b08cd360d4f"
  },
  {
   "metadata": {},
   "cell_type": "code",
   "outputs": [],
   "execution_count": null,
   "source": [
    "import gzip, shutil\n",
    "\n",
    "GZ = DATA / \"msoa_2021.geojson.gz\"\n",
    "if not GZ.exists():\n",
    "    print(\"[+] Gzipping to save disk space …\")\n",
    "    with open(GJ, \"rb\") as src, gzip.open(GZ, \"wb\") as dst:\n",
    "        shutil.copyfileobj(src, dst)\n",
    "    print(f\"[✓] Gzipped file is {GZ.stat().st_size/1_048_576:.1f} MB\")\n"
   ],
   "id": "5b23abf143e4f43f"
  },
  {
   "metadata": {},
   "cell_type": "markdown",
   "source": "Download ONS statistics",
   "id": "f90590a633881df8"
  },
  {
   "metadata": {
    "ExecuteTime": {
     "end_time": "2025-05-15T13:42:45.743635Z",
     "start_time": "2025-05-15T13:42:41.027855Z"
    }
   },
   "cell_type": "code",
   "source": [
    "import geopandas as gpd\n",
    "import pandas as pd\n",
    "\n",
    "# 1. Load inputs\n",
    "gdf = gpd.read_file(\"./msoa_2021.geojson\")    # your GeoJSON file\n",
    "df  = pd.read_csv(\"./msoa_attributes.csv\")        # your CSV with matching key\n",
    "\n",
    "# 2. Keep only the join key and geometry from the GeoJSON\n",
    "gdf = gdf[['MSOA21CD', 'geometry']]\n",
    "\n",
    "# 3. Remember original CRS\n",
    "orig_crs = gdf.crs\n",
    "\n",
    "# 4. Reproject to a metric CRS (units in metres) for simplification\n",
    "gdf = gdf.to_crs(epsg=3857)\n",
    "\n",
    "# 5. Simplify geometries to ~50 m tolerance\n",
    "gdf['geometry'] = gdf['geometry'].simplify(\n",
    "    tolerance=50,\n",
    "    preserve_topology=True\n",
    ")\n",
    "\n",
    "# 6. Reproject back to original CRS\n",
    "gdf = gdf.set_geometry('geometry').to_crs(orig_crs)\n",
    "\n",
    "# 7. Merge attributes from CSV on MSOA21CD\n",
    "gdf = gdf.merge(df, on='MSOA21CD', how='left')\n",
    "\n",
    "# 8. Filter out any MSOA21CD starting with 'W'\n",
    "gdf = gdf[~gdf['MSOA21CD'].str.startswith('W')]\n",
    "\n",
    "# 9. Write to GeoParquet\n",
    "gdf.to_parquet(\n",
    "    \"msoa_2021_data.parquet\",\n",
    "    engine=\"pyarrow\",\n",
    "    index=False\n",
    ")\n"
   ],
   "id": "1d372eb4ae18b03f",
   "outputs": [],
   "execution_count": 12
  },
  {
   "metadata": {},
   "cell_type": "code",
   "source": "",
   "id": "edbd3bb0d77f5511",
   "outputs": [],
   "execution_count": null
  }
 ],
 "metadata": {
  "kernelspec": {
   "display_name": "Python 3",
   "language": "python",
   "name": "python3"
  },
  "language_info": {
   "codemirror_mode": {
    "name": "ipython",
    "version": 2
   },
   "file_extension": ".py",
   "mimetype": "text/x-python",
   "name": "python",
   "nbconvert_exporter": "python",
   "pygments_lexer": "ipython2",
   "version": "2.7.6"
  }
 },
 "nbformat": 4,
 "nbformat_minor": 5
}
